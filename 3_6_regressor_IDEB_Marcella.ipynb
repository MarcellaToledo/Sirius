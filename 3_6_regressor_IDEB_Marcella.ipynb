{
  "cells": [
    {
      "cell_type": "markdown",
      "metadata": {
        "id": "PIr5zNTaKp0I"
      },
      "source": [
        "# **IDEB**\n",
        "\n",
        "A atividade consiste em executar modelos de machine learning para prever as notas do IDEB de cada município brasileiro.\n",
        "\n",
        "As notas do IDEB para cada município estão disponíveis na plataforma BASE DOS DADOS.\n",
        "\n",
        "Utilize a query SELECT * FROM `basedosdados.br_inep_ideb.municipio`.\n",
        "\n",
        "Selecione apenas as variáveis: rede, ensino, anos_escolares, taxa_aprovacao, indicador_rendimento, nota_saeb_matematica, nota_saeb_lingua_portuguesa, ideb. NÃO LIMITE A QUANTIDADE DE REGISTROS."
      ]
    },
    {
      "cell_type": "markdown",
      "metadata": {
        "id": "sK0wqXdtKp0P"
      },
      "source": [
        "### Importando as bibliotecas "
      ]
    },
    {
      "cell_type": "code",
      "execution_count": null,
      "metadata": {
        "id": "nJtEpBu4Kp0S"
      },
      "outputs": [],
      "source": [
        "import pandas as pd\n",
        "import seaborn as sns\n",
        "from sklearn.model_selection import train_test_split\n",
        "from sklearn.preprocessing import OneHotEncoder, OrdinalEncoder\n",
        "from sklearn.linear_model import LinearRegression\n",
        "from sklearn.tree import DecisionTreeRegressor\n",
        "from sklearn.ensemble import RandomForestRegressor\n",
        "from sklearn.metrics import r2_score\n",
        "from sklearn.metrics import mean_squared_error, mean_absolute_error\n",
        "import matplotlib.pyplot as plt\n",
        "from sklearn.metrics import confusion_matrix\n",
        "from xgboost import XGBRegressor\n",
        "\n",
        "from google.cloud import bigquery\n",
        "from google.oauth2 import service_account\n",
        "\n",
        "import warnings\n",
        "warnings.filterwarnings('ignore')"
      ]
    },
    {
      "cell_type": "code",
      "execution_count": 2,
      "metadata": {
        "id": "iPn3utMaKp0Y"
      },
      "outputs": [],
      "source": [
        "# Credencial de acesso ao bigquery\n",
        "\n",
        "#credential = service_account.Credentials.from_service_account_file('')\n",
        "\n",
        "credencial = service_account.Credentials.from_service_account_file(\n",
        "    '/content/marcella-sirius-2d62166debee.json')\n",
        "\n",
        "client = bigquery.Client(credentials=credencial, project=credencial.project_id)"
      ]
    },
    {
      "cell_type": "markdown",
      "metadata": {
        "id": "xoja8hWvKp0Z"
      },
      "source": [
        "### Lendo o conjunto de dados"
      ]
    },
    {
      "cell_type": "code",
      "execution_count": 3,
      "metadata": {
        "colab": {
          "base_uri": "https://localhost:8080/",
          "height": 206
        },
        "id": "SCY-ZPWUKp0a",
        "outputId": "6248eb19-044b-4a82-af3d-92f5b0cd642c"
      },
      "outputs": [
        {
          "data": {
            "text/html": [
              "\n",
              "  <div id=\"df-6058b2db-ee0b-48d3-bec8-ff9087a99ecf\">\n",
              "    <div class=\"colab-df-container\">\n",
              "      <div>\n",
              "<style scoped>\n",
              "    .dataframe tbody tr th:only-of-type {\n",
              "        vertical-align: middle;\n",
              "    }\n",
              "\n",
              "    .dataframe tbody tr th {\n",
              "        vertical-align: top;\n",
              "    }\n",
              "\n",
              "    .dataframe thead th {\n",
              "        text-align: right;\n",
              "    }\n",
              "</style>\n",
              "<table border=\"1\" class=\"dataframe\">\n",
              "  <thead>\n",
              "    <tr style=\"text-align: right;\">\n",
              "      <th></th>\n",
              "      <th>rede</th>\n",
              "      <th>ensino</th>\n",
              "      <th>anos_escolares</th>\n",
              "      <th>taxa_aprovacao</th>\n",
              "      <th>indicador_rendimento</th>\n",
              "      <th>nota_saeb_matematica</th>\n",
              "      <th>nota_saeb_lingua_portuguesa</th>\n",
              "      <th>ideb</th>\n",
              "    </tr>\n",
              "  </thead>\n",
              "  <tbody>\n",
              "    <tr>\n",
              "      <th>0</th>\n",
              "      <td>municipal</td>\n",
              "      <td>fundamental</td>\n",
              "      <td>iniciais (1-5)</td>\n",
              "      <td>53.9</td>\n",
              "      <td>0.561795</td>\n",
              "      <td>167.8</td>\n",
              "      <td>165.60</td>\n",
              "      <td>2.3</td>\n",
              "    </tr>\n",
              "    <tr>\n",
              "      <th>1</th>\n",
              "      <td>estadual</td>\n",
              "      <td>fundamental</td>\n",
              "      <td>iniciais (1-5)</td>\n",
              "      <td>49.3</td>\n",
              "      <td>0.501470</td>\n",
              "      <td>151.8</td>\n",
              "      <td>149.60</td>\n",
              "      <td>1.8</td>\n",
              "    </tr>\n",
              "    <tr>\n",
              "      <th>2</th>\n",
              "      <td>municipal</td>\n",
              "      <td>fundamental</td>\n",
              "      <td>iniciais (1-5)</td>\n",
              "      <td>48.8</td>\n",
              "      <td>0.494267</td>\n",
              "      <td>163.6</td>\n",
              "      <td>155.80</td>\n",
              "      <td>1.9</td>\n",
              "    </tr>\n",
              "    <tr>\n",
              "      <th>3</th>\n",
              "      <td>publica</td>\n",
              "      <td>fundamental</td>\n",
              "      <td>iniciais (1-5)</td>\n",
              "      <td>48.8</td>\n",
              "      <td>0.497858</td>\n",
              "      <td>159.0</td>\n",
              "      <td>153.39</td>\n",
              "      <td>1.9</td>\n",
              "    </tr>\n",
              "    <tr>\n",
              "      <th>4</th>\n",
              "      <td>municipal</td>\n",
              "      <td>fundamental</td>\n",
              "      <td>iniciais (1-5)</td>\n",
              "      <td>74.7</td>\n",
              "      <td>0.752579</td>\n",
              "      <td>138.0</td>\n",
              "      <td>134.19</td>\n",
              "      <td>2.3</td>\n",
              "    </tr>\n",
              "  </tbody>\n",
              "</table>\n",
              "</div>\n",
              "      <button class=\"colab-df-convert\" onclick=\"convertToInteractive('df-6058b2db-ee0b-48d3-bec8-ff9087a99ecf')\"\n",
              "              title=\"Convert this dataframe to an interactive table.\"\n",
              "              style=\"display:none;\">\n",
              "        \n",
              "  <svg xmlns=\"http://www.w3.org/2000/svg\" height=\"24px\"viewBox=\"0 0 24 24\"\n",
              "       width=\"24px\">\n",
              "    <path d=\"M0 0h24v24H0V0z\" fill=\"none\"/>\n",
              "    <path d=\"M18.56 5.44l.94 2.06.94-2.06 2.06-.94-2.06-.94-.94-2.06-.94 2.06-2.06.94zm-11 1L8.5 8.5l.94-2.06 2.06-.94-2.06-.94L8.5 2.5l-.94 2.06-2.06.94zm10 10l.94 2.06.94-2.06 2.06-.94-2.06-.94-.94-2.06-.94 2.06-2.06.94z\"/><path d=\"M17.41 7.96l-1.37-1.37c-.4-.4-.92-.59-1.43-.59-.52 0-1.04.2-1.43.59L10.3 9.45l-7.72 7.72c-.78.78-.78 2.05 0 2.83L4 21.41c.39.39.9.59 1.41.59.51 0 1.02-.2 1.41-.59l7.78-7.78 2.81-2.81c.8-.78.8-2.07 0-2.86zM5.41 20L4 18.59l7.72-7.72 1.47 1.35L5.41 20z\"/>\n",
              "  </svg>\n",
              "      </button>\n",
              "      \n",
              "  <style>\n",
              "    .colab-df-container {\n",
              "      display:flex;\n",
              "      flex-wrap:wrap;\n",
              "      gap: 12px;\n",
              "    }\n",
              "\n",
              "    .colab-df-convert {\n",
              "      background-color: #E8F0FE;\n",
              "      border: none;\n",
              "      border-radius: 50%;\n",
              "      cursor: pointer;\n",
              "      display: none;\n",
              "      fill: #1967D2;\n",
              "      height: 32px;\n",
              "      padding: 0 0 0 0;\n",
              "      width: 32px;\n",
              "    }\n",
              "\n",
              "    .colab-df-convert:hover {\n",
              "      background-color: #E2EBFA;\n",
              "      box-shadow: 0px 1px 2px rgba(60, 64, 67, 0.3), 0px 1px 3px 1px rgba(60, 64, 67, 0.15);\n",
              "      fill: #174EA6;\n",
              "    }\n",
              "\n",
              "    [theme=dark] .colab-df-convert {\n",
              "      background-color: #3B4455;\n",
              "      fill: #D2E3FC;\n",
              "    }\n",
              "\n",
              "    [theme=dark] .colab-df-convert:hover {\n",
              "      background-color: #434B5C;\n",
              "      box-shadow: 0px 1px 3px 1px rgba(0, 0, 0, 0.15);\n",
              "      filter: drop-shadow(0px 1px 2px rgba(0, 0, 0, 0.3));\n",
              "      fill: #FFFFFF;\n",
              "    }\n",
              "  </style>\n",
              "\n",
              "      <script>\n",
              "        const buttonEl =\n",
              "          document.querySelector('#df-6058b2db-ee0b-48d3-bec8-ff9087a99ecf button.colab-df-convert');\n",
              "        buttonEl.style.display =\n",
              "          google.colab.kernel.accessAllowed ? 'block' : 'none';\n",
              "\n",
              "        async function convertToInteractive(key) {\n",
              "          const element = document.querySelector('#df-6058b2db-ee0b-48d3-bec8-ff9087a99ecf');\n",
              "          const dataTable =\n",
              "            await google.colab.kernel.invokeFunction('convertToInteractive',\n",
              "                                                     [key], {});\n",
              "          if (!dataTable) return;\n",
              "\n",
              "          const docLinkHtml = 'Like what you see? Visit the ' +\n",
              "            '<a target=\"_blank\" href=https://colab.research.google.com/notebooks/data_table.ipynb>data table notebook</a>'\n",
              "            + ' to learn more about interactive tables.';\n",
              "          element.innerHTML = '';\n",
              "          dataTable['output_type'] = 'display_data';\n",
              "          await google.colab.output.renderOutput(dataTable, element);\n",
              "          const docLink = document.createElement('div');\n",
              "          docLink.innerHTML = docLinkHtml;\n",
              "          element.appendChild(docLink);\n",
              "        }\n",
              "      </script>\n",
              "    </div>\n",
              "  </div>\n",
              "  "
            ],
            "text/plain": [
              "        rede       ensino  anos_escolares  taxa_aprovacao  \\\n",
              "0  municipal  fundamental  iniciais (1-5)            53.9   \n",
              "1   estadual  fundamental  iniciais (1-5)            49.3   \n",
              "2  municipal  fundamental  iniciais (1-5)            48.8   \n",
              "3    publica  fundamental  iniciais (1-5)            48.8   \n",
              "4  municipal  fundamental  iniciais (1-5)            74.7   \n",
              "\n",
              "   indicador_rendimento  nota_saeb_matematica  nota_saeb_lingua_portuguesa  \\\n",
              "0              0.561795                 167.8                       165.60   \n",
              "1              0.501470                 151.8                       149.60   \n",
              "2              0.494267                 163.6                       155.80   \n",
              "3              0.497858                 159.0                       153.39   \n",
              "4              0.752579                 138.0                       134.19   \n",
              "\n",
              "   ideb  \n",
              "0   2.3  \n",
              "1   1.8  \n",
              "2   1.9  \n",
              "3   1.9  \n",
              "4   2.3  "
            ]
          },
          "execution_count": 3,
          "metadata": {},
          "output_type": "execute_result"
        }
      ],
      "source": [
        "# Insira aqui a query para filtrar os dados\n",
        "\n",
        "df = client.query('''SELECT \n",
        "                    rede, \n",
        "                    ensino, \n",
        "                    anos_escolares, \n",
        "                    taxa_aprovacao, \n",
        "                    indicador_rendimento, \n",
        "                    nota_saeb_matematica, \n",
        "                    nota_saeb_lingua_portuguesa, \n",
        "                    ideb  \n",
        "                    FROM `basedosdados.br_inep_ideb.municipio`''').to_dataframe()\n",
        "df.head()\n"
      ]
    },
    {
      "cell_type": "markdown",
      "metadata": {
        "id": "b5Y97yUKKp0b"
      },
      "source": [
        "### Verifique a dimensão do conjunto de dados"
      ]
    },
    {
      "cell_type": "code",
      "execution_count": 4,
      "metadata": {
        "colab": {
          "base_uri": "https://localhost:8080/"
        },
        "id": "YENZauQMKp0c",
        "outputId": "8d15bcfd-4446-42f3-bc52-c0d53a5d98cf"
      },
      "outputs": [
        {
          "data": {
            "text/plain": [
              "(294426, 8)"
            ]
          },
          "execution_count": 4,
          "metadata": {},
          "output_type": "execute_result"
        }
      ],
      "source": [
        "# Verifique a dimensão do conjunto de dados\n",
        "df.shape"
      ]
    },
    {
      "cell_type": "markdown",
      "metadata": {
        "id": "UH8KeWfbKp0d"
      },
      "source": [
        "### Verifique os tipos de dados"
      ]
    },
    {
      "cell_type": "code",
      "execution_count": 5,
      "metadata": {
        "colab": {
          "base_uri": "https://localhost:8080/"
        },
        "id": "f6fWKOqyKp0d",
        "outputId": "f457c1da-4fbf-4693-9836-6b663bbc4cca"
      },
      "outputs": [
        {
          "name": "stdout",
          "output_type": "stream",
          "text": [
            "<class 'pandas.core.frame.DataFrame'>\n",
            "RangeIndex: 294426 entries, 0 to 294425\n",
            "Data columns (total 8 columns):\n",
            " #   Column                       Non-Null Count   Dtype  \n",
            "---  ------                       --------------   -----  \n",
            " 0   rede                         294426 non-null  object \n",
            " 1   ensino                       294426 non-null  object \n",
            " 2   anos_escolares               294426 non-null  object \n",
            " 3   taxa_aprovacao               230833 non-null  float64\n",
            " 4   indicador_rendimento         230823 non-null  float64\n",
            " 5   nota_saeb_matematica         197870 non-null  float64\n",
            " 6   nota_saeb_lingua_portuguesa  197870 non-null  float64\n",
            " 7   ideb                         222045 non-null  float64\n",
            "dtypes: float64(5), object(3)\n",
            "memory usage: 18.0+ MB\n"
          ]
        }
      ],
      "source": [
        "# Verifique os tipos de dados\n",
        "\n",
        "df.info()"
      ]
    },
    {
      "cell_type": "code",
      "execution_count": 6,
      "metadata": {
        "colab": {
          "base_uri": "https://localhost:8080/"
        },
        "id": "blUonNI1NiLv",
        "outputId": "7fc52d4c-ec2f-4b44-9356-85b7cc19fc6d"
      },
      "outputs": [
        {
          "data": {
            "text/plain": [
              "rede       ensino       anos_escolares\n",
              "publica    fundamental  finais (6-9)      50112\n",
              "                        iniciais (1-5)    50076\n",
              "municipal  fundamental  iniciais (1-5)    48654\n",
              "estadual   fundamental  finais (6-9)      44100\n",
              "municipal  fundamental  finais (6-9)      34947\n",
              "estadual   fundamental  iniciais (1-5)    31329\n",
              "publica    medio        todos (1-4)       16635\n",
              "estadual   medio        todos (1-4)       16629\n",
              "federal    medio        todos (1-4)        1314\n",
              "municipal  medio        todos (1-4)         297\n",
              "federal    fundamental  finais (6-9)        198\n",
              "                        iniciais (1-5)      135\n",
              "dtype: int64"
            ]
          },
          "execution_count": 6,
          "metadata": {},
          "output_type": "execute_result"
        }
      ],
      "source": [
        "df[['rede',\t'ensino',\t'anos_escolares']].value_counts()"
      ]
    },
    {
      "cell_type": "markdown",
      "metadata": {
        "id": "gJCq-rS8Kp0d"
      },
      "source": [
        "        As variáveis categóricas são de quais tipos (Nominal ou Ordinal)?\n",
        "rede - nominal \n",
        "\n",
        "ensino e anos_escolares - ordinal \n",
        "        "
      ]
    },
    {
      "cell_type": "markdown",
      "metadata": {
        "id": "n3jyX6j8Kp0e"
      },
      "source": [
        "### Verifique dados duplicados"
      ]
    },
    {
      "cell_type": "code",
      "execution_count": 7,
      "metadata": {
        "colab": {
          "base_uri": "https://localhost:8080/"
        },
        "id": "tSqJXt7nKp0e",
        "outputId": "0a21a26d-dee5-448a-bd71-af1faa43fdb0"
      },
      "outputs": [
        {
          "data": {
            "text/plain": [
              "65067"
            ]
          },
          "execution_count": 7,
          "metadata": {},
          "output_type": "execute_result"
        }
      ],
      "source": [
        "# Dados duplicados\n",
        "\n",
        "df.duplicated().sum()"
      ]
    },
    {
      "cell_type": "code",
      "execution_count": 8,
      "metadata": {
        "colab": {
          "base_uri": "https://localhost:8080/"
        },
        "id": "qq_gwLVvRcGN",
        "outputId": "b4211798-8619-4f29-c2cd-fc048d827cca"
      },
      "outputs": [
        {
          "data": {
            "text/plain": [
              "0"
            ]
          },
          "execution_count": 8,
          "metadata": {},
          "output_type": "execute_result"
        }
      ],
      "source": [
        "df.drop_duplicates(inplace=True)\n",
        "df.duplicated().sum()"
      ]
    },
    {
      "cell_type": "markdown",
      "metadata": {
        "id": "_scF3vYxKp0f"
      },
      "source": [
        "### Verifique os valores ausentes"
      ]
    },
    {
      "cell_type": "code",
      "execution_count": 9,
      "metadata": {
        "colab": {
          "base_uri": "https://localhost:8080/"
        },
        "id": "K8A5IrFTKp0g",
        "outputId": "aaa4b396-abab-48ca-e6f2-1343a2d2a4cb"
      },
      "outputs": [
        {
          "data": {
            "text/plain": [
              "rede                               0\n",
              "ensino                             0\n",
              "anos_escolares                     0\n",
              "taxa_aprovacao                    40\n",
              "indicador_rendimento              47\n",
              "nota_saeb_matematica           31489\n",
              "nota_saeb_lingua_portuguesa    31489\n",
              "ideb                            7993\n",
              "dtype: int64"
            ]
          },
          "execution_count": 9,
          "metadata": {},
          "output_type": "execute_result"
        }
      ],
      "source": [
        "# Verifique dados ausentes\n",
        "df.isnull().sum()"
      ]
    },
    {
      "cell_type": "markdown",
      "metadata": {
        "id": "BomvZzamKp0h"
      },
      "source": [
        "        Existe valores ausentes? Como você irá tratar?\n",
        "\n",
        "        Sim, excluir \n"
      ]
    },
    {
      "cell_type": "code",
      "execution_count": 10,
      "metadata": {
        "id": "ziMq8QKDSrvD"
      },
      "outputs": [],
      "source": [
        "df.dropna(inplace=True)"
      ]
    },
    {
      "cell_type": "code",
      "execution_count": 11,
      "metadata": {
        "colab": {
          "base_uri": "https://localhost:8080/"
        },
        "id": "XYyOt4ZWTbhe",
        "outputId": "80128f80-2b56-41cc-c5b6-51ff462478d3"
      },
      "outputs": [
        {
          "data": {
            "text/plain": [
              "rede                           0\n",
              "ensino                         0\n",
              "anos_escolares                 0\n",
              "taxa_aprovacao                 0\n",
              "indicador_rendimento           0\n",
              "nota_saeb_matematica           0\n",
              "nota_saeb_lingua_portuguesa    0\n",
              "ideb                           0\n",
              "dtype: int64"
            ]
          },
          "execution_count": 11,
          "metadata": {},
          "output_type": "execute_result"
        }
      ],
      "source": [
        "df.isnull().sum()"
      ]
    },
    {
      "cell_type": "markdown",
      "metadata": {
        "id": "Nbg612SnKp0h"
      },
      "source": [
        "### Correlação"
      ]
    },
    {
      "cell_type": "code",
      "execution_count": 12,
      "metadata": {
        "colab": {
          "base_uri": "https://localhost:8080/",
          "height": 425
        },
        "id": "DMMYUhDuKp0i",
        "outputId": "1fa88f75-49e7-4bf5-ec27-f94dbcc9360e"
      },
      "outputs": [
        {
          "data": {
            "text/plain": [
              "<matplotlib.axes._subplots.AxesSubplot at 0x7fd4cebbf410>"
            ]
          },
          "execution_count": 12,
          "metadata": {},
          "output_type": "execute_result"
        },
        {
          "data": {
            "image/png": "[encoded data removed]",
            "text/plain": [
              "<Figure size 432x288 with 2 Axes>"
            ]
          },
          "metadata": {
            "needs_background": "light"
          },
          "output_type": "display_data"
        }
      ],
      "source": [
        "# Correlação\n",
        "\n",
        "sns.heatmap(df.corr(), vmin=-1, vmax=1,  annot=True)"
      ]
    },
    {
      "cell_type": "markdown",
      "metadata": {
        "id": "nvWTga8QKp0i"
      },
      "source": [
        "        Quais insights podemos obter ao analisar a correlação das variáveis?\n",
        "\n",
        "        Correlação entre ideb e taxa_aprovacao\n",
        "        Correlação entre ideb e indicador_rendimento"
      ]
    },
    {
      "cell_type": "markdown",
      "metadata": {
        "id": "k3O2txvEKp0j"
      },
      "source": [
        "## Pré-processamento"
      ]
    },
    {
      "cell_type": "markdown",
      "metadata": {
        "id": "LqJomzSUKp0j"
      },
      "source": [
        "### Tratando valores ausentes"
      ]
    },
    {
      "cell_type": "code",
      "execution_count": 13,
      "metadata": {
        "id": "8w5QmGc-Kp0j"
      },
      "outputs": [],
      "source": [
        "# Tratando valores ausentes\n",
        "\n",
        "\n",
        "# Já tratados "
      ]
    },
    {
      "cell_type": "markdown",
      "metadata": {
        "id": "84oe-Y-cKp0k"
      },
      "source": [
        "### Separe as variáveis independentes (variáveis preditoras) da variável dependente (variável alvo) \n",
        "\n",
        "Por exemplo:\n",
        "\n",
        "X = variáveis independentes\n",
        "\n",
        "y = variavel dependente"
      ]
    },
    {
      "cell_type": "code",
      "execution_count": 14,
      "metadata": {
        "id": "HgFTMcV9Kp0k"
      },
      "outputs": [],
      "source": [
        "# Separando as variáveis\n",
        "\n",
        "X = df.drop('ideb', axis=1)\n",
        "y = df['ideb']"
      ]
    },
    {
      "cell_type": "markdown",
      "metadata": {
        "id": "QmWMhtFEKp0m"
      },
      "source": [
        "### Separe os dados em conjunto de treinamento e conjunto de teste\n",
        "\n",
        "Separe os dados com 70% para treino e 30% para teste"
      ]
    },
    {
      "cell_type": "code",
      "execution_count": 34,
      "metadata": {
        "id": "ARtuOpnZKp0m"
      },
      "outputs": [],
      "source": [
        "# Separe os dados em treino e teste\n",
        "\n",
        "X_train, X_test, y_train, y_test = train_test_split(X, y, test_size=0.30, random_state=0)\n"
      ]
    },
    {
      "cell_type": "code",
      "execution_count": 35,
      "metadata": {
        "colab": {
          "base_uri": "https://localhost:8080/"
        },
        "id": "ifa6B-iJns5K",
        "outputId": "1d917f13-224c-434c-cd7e-daafcc214f0a"
      },
      "outputs": [
        {
          "data": {
            "text/plain": [
              "((138487, 7), (59352, 7))"
            ]
          },
          "execution_count": 35,
          "metadata": {},
          "output_type": "execute_result"
        }
      ],
      "source": [
        "X_train.shape, X_test.shape"
      ]
    },
    {
      "cell_type": "markdown",
      "metadata": {
        "id": "8XT-6GVRKp0n"
      },
      "source": [
        "### Codifique as variáveis categóricas\n",
        "\n",
        "A codificação de variáveis categóricas (formato texto) é um passo de suma importância para os modelos de machine learning, pois os modelos só pode interpretar dados númericos."
      ]
    },
    {
      "cell_type": "code",
      "execution_count": 36,
      "metadata": {
        "colab": {
          "base_uri": "https://localhost:8080/"
        },
        "id": "FEdvrviZKp0n",
        "outputId": "5c17b829-f245-4693-fceb-82f1efded8d8"
      },
      "outputs": [
        {
          "data": {
            "text/plain": [
              "Index(['rede', 'ensino', 'anos_escolares'], dtype='object')"
            ]
          },
          "execution_count": 36,
          "metadata": {},
          "output_type": "execute_result"
        }
      ],
      "source": [
        "# Utilize o método select_dtypes() para obter a lista de variáveis categóricas\n",
        "\n",
        "# Observação: Utilize o conjunto de treinamento\n",
        "\n",
        "X_train.select_dtypes(include= 'object').columns\n"
      ]
    },
    {
      "cell_type": "code",
      "execution_count": 37,
      "metadata": {
        "id": "rjQlyHViIMow"
      },
      "outputs": [],
      "source": [
        "# Codificando as variáveis CATEGÓRICAS NOMINAIS\n",
        "# O OneHotEncoder é um transformador utilizado para codificar variáveis categóricas nominais.\n",
        "# Instânciando o OneHotEncoder\n",
        "\n",
        "encoder = OneHotEncoder(handle_unknown='ignore', sparse=False)\n",
        "\n",
        "# Transforme as variáveis categóricas do conjunto de treino (use fit_transform() para treino - Dúvidas consulte a documentação)\n",
        "\n",
        "## df_train_nominal = pd.DataFrame(encoder.fit_transform(X_train['rede'].values.reshape(-1, 1)))\n",
        "## df_train_nominal.columns = encoder.get_feature_names(['rede'])\n",
        "df_train_nominal = encoder.fit_transform(X_train['rede'].values.reshape(-1, 1))\n",
        "\n",
        "# Transforme as variáveis categóricas do conjunto de teste (use transform para teste - Dúvidas consulte a documentação)\n",
        "\n",
        "## df_test_nominal = pd.DataFrame(encoder.fit_transform(X_test['rede'].values.reshape(-1, 1)))\n",
        "## df_test_nominal.columns = encoder.get_feature_names(['rede'])\n",
        "df_test_nominal = encoder.fit_transform(X_test['rede'].values.reshape(-1, 1))"
      ]
    },
    {
      "cell_type": "code",
      "execution_count": 38,
      "metadata": {
        "id": "q82Hv-8fKp0o"
      },
      "outputs": [],
      "source": [
        "# Codificando as variáveis CATEGÓRICAS ORDINAIS\n",
        "# O OrdinalEncoder é um transformador utilizado para codificar variáveis categóricas ordinais.\n",
        "enc = OrdinalEncoder(categories= [\n",
        "                                 ['fundamental', 'medio'],\n",
        "                                 ['iniciais (1-5)', 'finais (6-9)', 'todos (1-4)']\n",
        "                                 ])\n",
        "\n",
        "# Transforme as variáveis categóricas do conjunto de treino (use fit_transform() para treino - Dúvidas consulte a documentação)\n",
        "\n",
        "## df_train_ordinal = pd.DataFrame(enc.fit_transform(X_train[['ensino', 'anos_escolares']]))\n",
        "df_train_ordinal = enc.fit_transform(X_train[['ensino', 'anos_escolares']])\n",
        "\n",
        "# Transforme as variáveis categóricas do conjunto de teste (use transform para teste - Dúvidas consulte a documentação)\n",
        "\n",
        "## df_test_ordinal = pd.DataFrame(enc.fit_transform(X_test[['ensino', 'anos_escolares']]\n",
        "df_test_ordinal = enc.fit_transform(X_test[['ensino', 'anos_escolares']])"
      ]
    },
    {
      "cell_type": "code",
      "execution_count": 39,
      "metadata": {
        "id": "elorIqCSKp0p"
      },
      "outputs": [],
      "source": [
        "# Excluir as variáveis categóricas do conjunto de treino\n",
        "\n",
        "X_train.drop(['rede','ensino', 'anos_escolares'] ,axis=1, inplace=True)\n",
        "\n",
        "# Excluir as variáveis categóricas do conjunto de teste\n",
        "\n",
        "X_test.drop(['rede','ensino', 'anos_escolares'] ,axis=1, inplace=True)"
      ]
    },
    {
      "cell_type": "code",
      "execution_count": 40,
      "metadata": {
        "id": "z9kTTx_uJFQ8"
      },
      "outputs": [],
      "source": [
        "# Inserir as variáveis categóricas transformadas no conjunto de treino\n",
        "\n",
        "## df_train = pd.concat([X_train, df_train_nominal, df_train_ordinal], axis=1)\n",
        "X_train[encoder.get_feature_names_out()] = df_train_nominal\n",
        "X_train[['ensino', 'anos_escolares']] = df_train_ordinal\n",
        "\n",
        "# Inserir as variáveis categóricas transformadas no conjunto de teste\n",
        "\n",
        "## df_test = pd.concat([X_test, df_test_nominal,df_test_ordinal], axis=1)\n",
        "X_test[encoder.get_feature_names_out()] = df_test_nominal\n",
        "X_test[['ensino', 'anos_escolares']] = df_test_ordinal\n"
      ]
    },
    {
      "cell_type": "code",
      "execution_count": 22,
      "metadata": {
        "colab": {
          "base_uri": "https://localhost:8080/"
        },
        "id": "rpfnDfoRoexg",
        "outputId": "6c54ab3f-c831-40d7-e22a-b4c2eaa28986"
      },
      "outputs": [
        {
          "data": {
            "text/plain": [
              "((138487, 10), (59352, 10))"
            ]
          },
          "execution_count": 22,
          "metadata": {},
          "output_type": "execute_result"
        }
      ],
      "source": [
        "X_train.shape, X_test.shape"
      ]
    },
    {
      "cell_type": "code",
      "execution_count": 23,
      "metadata": {
        "colab": {
          "base_uri": "https://localhost:8080/"
        },
        "id": "T4SGEJoGg1c0",
        "outputId": "20010780-5f06-489e-ce88-cce4e5bdc1f0"
      },
      "outputs": [
        {
          "data": {
            "text/plain": [
              "taxa_aprovacao                 0\n",
              "indicador_rendimento           0\n",
              "nota_saeb_matematica           0\n",
              "nota_saeb_lingua_portuguesa    0\n",
              "x0_estadual                    0\n",
              "x0_federal                     0\n",
              "x0_municipal                   0\n",
              "x0_publica                     0\n",
              "ensino                         0\n",
              "anos_escolares                 0\n",
              "dtype: int64"
            ]
          },
          "execution_count": 23,
          "metadata": {},
          "output_type": "execute_result"
        }
      ],
      "source": [
        "X_train.isnull().sum()"
      ]
    },
    {
      "cell_type": "code",
      "execution_count": 24,
      "metadata": {
        "colab": {
          "base_uri": "https://localhost:8080/"
        },
        "id": "nJptiFySOeG8",
        "outputId": "458488ae-f8f9-4486-8485-c4b72d34527a"
      },
      "outputs": [
        {
          "data": {
            "text/plain": [
              "taxa_aprovacao                 0\n",
              "indicador_rendimento           0\n",
              "nota_saeb_matematica           0\n",
              "nota_saeb_lingua_portuguesa    0\n",
              "x0_estadual                    0\n",
              "x0_federal                     0\n",
              "x0_municipal                   0\n",
              "x0_publica                     0\n",
              "ensino                         0\n",
              "anos_escolares                 0\n",
              "dtype: int64"
            ]
          },
          "execution_count": 24,
          "metadata": {},
          "output_type": "execute_result"
        }
      ],
      "source": [
        "X_test.isnull().sum()"
      ]
    },
    {
      "cell_type": "markdown",
      "metadata": {
        "id": "Y6sDpbyiKp0q"
      },
      "source": [
        "### Normalizar ou Padronizar os dados\n",
        "\n",
        "A padronização de um conjunto de dados é um requisito comum para muitos estimadores/modelos de aprendizado de máquina: eles podem se comportar mal se os recursos individuais não se parecerem mais ou menos com dados padrão normalmente distribuídos (por exemplo, Gaussiano com média 0 e variância de unidade).\n",
        "\n",
        "A padronização é necessária quando os valores das variáveis numéricas estão em escalas diferentes. Se uma variável tem uma variância que é ordens de magnitude maior do que outros, ela pode dominar a função objetivo e tornar o modelo incapaz de aprender com outras variáveis corretamente como esperado."
      ]
    },
    {
      "cell_type": "code",
      "execution_count": 25,
      "metadata": {
        "id": "tgIZwUOqKp0r"
      },
      "outputs": [],
      "source": [
        "# O StandardScaler padroniza variáveis removendo a média e dimensionando para a variação da unidade.\n",
        "from sklearn.preprocessing import StandardScaler\n",
        "\n",
        "# Instanciando o StandardScaler\n",
        "scaler = StandardScaler()\n",
        "\n",
        "\n",
        "# Padronizando os dados do conjunto de treino (use fit_transform() para treino - Dúvidas consulte a documentação)\n",
        "X_train = scaler.fit_transform(X_train)\n",
        "\n",
        "\n",
        "# Padronizando os dados do conjunto de teste (use transform() para teste - Dúvidas consulte a documentação)\n",
        "X_test = scaler.transform(X_test)"
      ]
    },
    {
      "cell_type": "markdown",
      "metadata": {
        "id": "cs5GQ3XQKp0t"
      },
      "source": [
        "## Modelos de Machine Learning"
      ]
    },
    {
      "cell_type": "code",
      "execution_count": 26,
      "metadata": {
        "id": "VeS5zUh-51aD"
      },
      "outputs": [],
      "source": [
        "def metricas (y_, y_pred):\n",
        "  from sklearn.metrics import mean_squared_error\n",
        "  from sklearn.metrics import mean_absolute_error as MAE\n",
        "  from sklearn.metrics import r2_score\n",
        "  MSE = mean_squared_error(y_, y_pred)\n",
        "  RMSE = mean_squared_error(y_, y_pred, squared=False)\n",
        "  MAE = MAE(y_, y_pred)\n",
        "  r2 = r2_score(y_, y_pred)\n",
        "  print(f'MSE: {MSE}, RMSE: {RMSE}, MAE: {MAE}, R2: {r2}')"
      ]
    },
    {
      "cell_type": "markdown",
      "metadata": {
        "id": "HbKXoHZcKp0t"
      },
      "source": [
        "### Linear Regression"
      ]
    },
    {
      "cell_type": "code",
      "execution_count": 27,
      "metadata": {
        "colab": {
          "base_uri": "https://localhost:8080/"
        },
        "id": "XD7W-J9NKp0t",
        "outputId": "66b03a20-c0f7-4d4a-9d29-23b91e62be3a"
      },
      "outputs": [
        {
          "name": "stdout",
          "output_type": "stream",
          "text": [
            "MSE: 0.01365469979184125, RMSE: 0.11685332597680415, MAE: 0.08709412171129931, R2: 0.9891773391469572\n",
            "MSE: 0.013968520781291781, RMSE: 0.11818849682304865, MAE: 0.08779908347444007, R2: 0.9889733304062535\n"
          ]
        }
      ],
      "source": [
        "# Instanciando o modelo\n",
        "from sklearn.linear_model import LinearRegression\n",
        "modeloLR = LinearRegression()\n",
        "\n",
        "# Treinando o modelo\n",
        "modeloLR.fit(X_train, y_train)\n",
        "\n",
        "# Fazendo as predições para o conjunto de treino e teste\n",
        "predicao_modeloLR_train = modeloLR.predict(X_train)\n",
        "predicao_modeloLR_test = modeloLR.predict(X_test)\n",
        "\n",
        "# Avaliando os modelos com as métricas R2, MSE e MAE\n",
        "metricas(y_train,predicao_modeloLR_train)\n",
        "metricas(y_test,predicao_modeloLR_test)"
      ]
    },
    {
      "cell_type": "markdown",
      "metadata": {
        "id": "6Dl39IjSKp0u"
      },
      "source": [
        "### Decision Tree Regressor"
      ]
    },
    {
      "cell_type": "code",
      "execution_count": 28,
      "metadata": {
        "colab": {
          "base_uri": "https://localhost:8080/"
        },
        "id": "hqSCwtUYKp0u",
        "outputId": "7592e6bb-88a3-4727-861c-67e9e0f5d91e"
      },
      "outputs": [
        {
          "name": "stdout",
          "output_type": "stream",
          "text": [
            "MSE: 8.737354962497226e-31, RMSE: 9.347381966356796e-16, MAE: 4.677836733851389e-16, R2: 1.0\n",
            "MSE: 0.0025535786494136673, RMSE: 0.050532946177851805, MAE: 0.019749966302736593, R2: 0.9979842197688934\n"
          ]
        }
      ],
      "source": [
        "# Instanciando o modelo\n",
        "from sklearn.tree import DecisionTreeRegressor\n",
        "modeloDT = DecisionTreeRegressor()\n",
        "\n",
        "# Treinando o modelo\n",
        "modeloDT.fit(X_train, y_train)\n",
        "\n",
        "# Fazendo as predições para o conjunto de treino e teste\n",
        "predicao_modeloDT_train = modeloDT.predict(X_train)\n",
        "predicao_modeloDT_test = modeloDT.predict(X_test)\n",
        "\n",
        "# Avaliando os modelos com as métricas R2, MSE e MAE\n",
        "metricas(y_train,predicao_modeloDT_train)\n",
        "metricas(y_test,predicao_modeloDT_test)"
      ]
    },
    {
      "cell_type": "markdown",
      "metadata": {
        "id": "hxTeZ2T-Kp0u"
      },
      "source": [
        "### Random Forest Regressor"
      ]
    },
    {
      "cell_type": "code",
      "execution_count": 29,
      "metadata": {
        "colab": {
          "base_uri": "https://localhost:8080/"
        },
        "id": "ewAoOSU1Kp0u",
        "outputId": "d30ba37b-c7aa-4206-f379-969c673615e3"
      },
      "outputs": [
        {
          "name": "stdout",
          "output_type": "stream",
          "text": [
            "MSE: 0.00033572535119132807, RMSE: 0.018322809587815077, MAE: 0.011160026368523791, R2: 0.9997339054192986\n",
            "MSE: 0.0013065051044796802, RMSE: 0.03614560975387855, MAE: 0.022167562069946602, R2: 0.9989686524195937\n"
          ]
        }
      ],
      "source": [
        "# Instanciando o modelo\n",
        "from sklearn.ensemble import RandomForestRegressor\n",
        "modeloRF = RandomForestRegressor(n_estimators=100, min_samples_leaf =2)\n",
        "\n",
        "# Treinando o modelo\n",
        "modeloRF.fit(X_train, y_train)\n",
        "\n",
        "# Fazendo as predições para o conjunto de treino e teste\n",
        "predicao_modeloRF_train = modeloRF.predict(X_train)\n",
        "predicao_modeloRF_test = modeloRF.predict(X_test)\n",
        "\n",
        "# Avaliando os modelos com as métricas R2, MSE e MAE\n",
        "metricas(y_train,predicao_modeloRF_train)\n",
        "metricas(y_test,predicao_modeloRF_test)"
      ]
    },
    {
      "cell_type": "markdown",
      "metadata": {
        "id": "9I7rEQNSKp0v"
      },
      "source": [
        "### XGBoost"
      ]
    },
    {
      "cell_type": "code",
      "execution_count": 30,
      "metadata": {
        "colab": {
          "base_uri": "https://localhost:8080/"
        },
        "id": "P7VgCzZ1Kp0v",
        "outputId": "ed9158b1-a1d5-49ac-f49b-4386c5a898f0"
      },
      "outputs": [
        {
          "name": "stdout",
          "output_type": "stream",
          "text": [
            "[02:07:56] WARNING: /workspace/src/objective/regression_obj.cu:152: reg:linear is now deprecated in favor of reg:squarederror.\n",
            "MSE: 0.008496993697483208, RMSE: 0.09217913916653381, MAE: 0.06883618220967426, R2: 0.9932653165239671\n",
            "MSE: 0.0087508355844552, RMSE: 0.09354590094950821, MAE: 0.0696494168662562, R2: 0.993092140952518\n"
          ]
        }
      ],
      "source": [
        "# Instanciando o modelo\n",
        "from xgboost import XGBRegressor\n",
        "modeloXGB = XGBRegressor()\n",
        "\n",
        "# Treinando o modelo\n",
        "modeloXGB.fit(X_train,y_train)\n",
        "\n",
        "# Fazendo as predições para o conjunto de treino e teste\n",
        "predicao_modeloXGB_train = modeloXGB.predict(X_train)\n",
        "predicao_modeloXGB_test = modeloXGB.predict(X_test)\n",
        "\n",
        "# Avaliando os modelos com as métricas R2, MSE e MAE\n",
        "metricas(y_train,predicao_modeloXGB_train)\n",
        "metricas(y_test,predicao_modeloXGB_test)"
      ]
    },
    {
      "cell_type": "markdown",
      "metadata": {
        "id": "tyzSirZDKp0v"
      },
      "source": [
        "### **Considerando as informações acima, os modelos apresentaram overfitting ou underfitting**?\n",
        "\n"
      ]
    },
    {
      "cell_type": "markdown",
      "metadata": {
        "id": "nvYMiLIgKp0w"
      },
      "source": [
        "### **Qual o melhor modelo para prever notas do IDEB?**\n",
        "\n"
      ]
    }
  ],
  "metadata": {
    "colab": {
      "name": "3.6_regressor - IDEB - Marcella.ipynb",
      "provenance": []
    },
    "kernelspec": {
      "display_name": "Python 3.10.7 64-bit",
      "language": "python",
      "name": "python3"
    },
    "language_info": {
      "codemirror_mode": {
        "name": "ipython",
        "version": 3
      },
      "file_extension": ".py",
      "mimetype": "text/x-python",
      "name": "python",
      "nbconvert_exporter": "python",
      "pygments_lexer": "ipython3",
      "version": "3.10.7"
    },
    "orig_nbformat": 4,
    "vscode": {
      "interpreter": {
        "hash": "0f4aad36e1a7834f44c14e84b98527cfbefef55e7a336cfec74130d804d73c8f"
      }
    }
  },
  "nbformat": 4,
  "nbformat_minor": 0
}
